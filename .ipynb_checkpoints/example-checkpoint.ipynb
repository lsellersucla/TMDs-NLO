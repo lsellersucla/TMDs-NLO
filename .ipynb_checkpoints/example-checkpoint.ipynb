{
 "cells": [
  {
   "cell_type": "code",
   "execution_count": 1,
   "id": "3bae3064-9937-4e60-a607-263c5927968a",
   "metadata": {},
   "outputs": [
    {
     "name": "stdout",
     "output_type": "stream",
     "text": [
      "/Users/luke/Desktop/TMDs-NLO/lib/apfel/pywrap/apfel.py\n"
     ]
    }
   ],
   "source": [
    "### Check Apfel Python Wrapper\n",
    "\n",
    "from lib.apfel.pywrap import apfel\n",
    "print(apfel.__file__)"
   ]
  },
  {
   "cell_type": "code",
   "execution_count": 2,
   "id": "27d34460-d9fd-4cb7-bb6c-e2b833522a52",
   "metadata": {},
   "outputs": [],
   "source": [
    "### Check Kernel_q (Perturbative Evolution) Python Wrapper\n",
    "\n",
    "from lib.Evolution.kernel_q import kernel_q, alphas"
   ]
  },
  {
   "cell_type": "code",
   "execution_count": 3,
   "id": "f48b9752-017a-4435-b514-789f726a714f",
   "metadata": {},
   "outputs": [],
   "source": [
    "### Fast Bessel Transform\n",
    "\n",
    "from lib.Numerical.FBT import FBT"
   ]
  },
  {
   "cell_type": "code",
   "execution_count": 4,
   "id": "5391af23-c0fb-4b10-9344-9d60d5fbd66b",
   "metadata": {},
   "outputs": [],
   "source": [
    "##### Imports\n",
    "\n",
    "# import torch\n",
    "# import torch.nn.utils as utils\n",
    "# import torch.nn as nn\n",
    "# from tqdm import tqdm\n",
    "\n",
    "from matplotlib import pyplot as plt\n",
    "import sympy as sym\n",
    "from scipy.integrate import cumulative_trapezoid\n",
    "from scipy.special import beta\n",
    "from scipy.interpolate import interp1d\n",
    "from scipy.integrate import quad\n",
    "\n",
    "import sys,os\n",
    "import lhapdf\n",
    "import pylab as py\n",
    "import pandas as pd\n",
    "import numpy as np\n",
    "import matplotlib as mpl\n",
    "import matplotlib.pyplot as plt\n",
    "\n",
    "# from lib.Evolution.kernel_q import kernel_q, alphas\n",
    "# from lib.Evolution.kernel_q import dig  as digamma\n",
    "# from lib.Evolution.kernel_q import trig as trigamma\n",
    "# from lib.default_params import defaparams\n",
    "# from lib.Numerical.FBT import FBT\n",
    "\n",
    "import warnings\n",
    "warnings.filterwarnings(\"ignore\")\n",
    "\n",
    "# ### For AKK FFs--- using in jupyter will crash the kernel\n",
    "# import akk as akk"
   ]
  },
  {
   "cell_type": "code",
   "execution_count": 5,
   "id": "695653cc-ad91-4b3e-86d9-1c429611f600",
   "metadata": {},
   "outputs": [],
   "source": [
    "### Append Directory w/ LHAPDF grids of collinear PDFs/FFs to your path\n",
    "\n",
    "pdf_path = '/Users/luke/Desktop/LHAPDF/lhapdf-kang'\n",
    "lhapdf.pathsAppend(pdf_path)\n",
    "\n",
    "pdf_path = '/Users/luke/Desktop/LHAPDF/LambdaAKK08'\n",
    "lhapdf.pathsAppend(pdf_path)\n",
    "\n",
    "pdf_path = '/Users/luke/Desktop/LHAPDF'\n",
    "lhapdf.pathsAppend(pdf_path)"
   ]
  },
  {
   "cell_type": "code",
   "execution_count": 6,
   "id": "f5336724-32a5-4e77-a5e7-18098d608667",
   "metadata": {},
   "outputs": [
    {
     "data": {
      "text/plain": [
       "['/opt/anaconda3/envs/ml/share/LHAPDF',\n",
       " '/Users/luke/Desktop/LHAPDF/lhapdf-kang',\n",
       " '/opt/anaconda3/envs/ml/share/LHAPDF',\n",
       " '/Users/luke/Desktop/LHAPDF/LambdaAKK08',\n",
       " '/opt/anaconda3/envs/ml/share/LHAPDF',\n",
       " '/Users/luke/Desktop/LHAPDF',\n",
       " '/opt/anaconda3/envs/ml/share/LHAPDF']"
      ]
     },
     "execution_count": 6,
     "metadata": {},
     "output_type": "execute_result"
    }
   ],
   "source": [
    "lhapdf.paths()"
   ]
  },
  {
   "cell_type": "code",
   "execution_count": null,
   "id": "1af418ef-2658-4308-b547-082711539c89",
   "metadata": {},
   "outputs": [],
   "source": []
  },
  {
   "cell_type": "code",
   "execution_count": null,
   "id": "defb7f6f-ae20-462b-8e6a-a065ffdf5304",
   "metadata": {},
   "outputs": [],
   "source": []
  },
  {
   "cell_type": "code",
   "execution_count": null,
   "id": "02417111-dd08-418b-a2da-98d7161af3e7",
   "metadata": {},
   "outputs": [],
   "source": []
  },
  {
   "cell_type": "code",
   "execution_count": 7,
   "id": "c7a834d9-ab7c-42d1-bc35-5e35cf1eee94",
   "metadata": {},
   "outputs": [],
   "source": [
    "##### Physics"
   ]
  },
  {
   "cell_type": "code",
   "execution_count": 8,
   "id": "b398a4c1-54c5-4bf2-8dbf-60e65a3598c4",
   "metadata": {},
   "outputs": [],
   "source": [
    "### Constants\n",
    "\n",
    "Q = 10.58 #GeV\n",
    "qT_max = 0.25*Q\n",
    "pT_max = qT_max\n",
    "\n",
    "c0 = 1.122919\n",
    "ktw = 0.424\n",
    "g_2 = 0.84\n",
    "g_h = 0.042\n",
    "\n",
    "eps = 1e-3\n",
    "mub_min = 1.0 + eps # GeV, set by AKK FF method\n",
    "#b_max = c0*(2)**0.5 / mub_min\n",
    "\n",
    "### b grid\n",
    "yE = 0.5772\n",
    "b_max = 1.5 # GeV for correct S_NP parameterization\n",
    "#b_max = 0.6 # GeV^-1 For Pavia fit eq (3.40) of https://arxiv.org/pdf/2209.11670\n",
    "b_min = 2*np.exp(-1*yE) / Q\n",
    "b_grid = np.linspace(b_min, b_max, 100)\n",
    "\n",
    "pT2_avg = 0.19 #GeV^2\n",
    "pi = np.pi\n",
    "Nc = 3\n",
    "alpha_EM = 1/137\n",
    "c1 = 2*np.exp(-1*yE) # For b* prescription mub = c1 / b*\n",
    "th = pi # Doesn't matter for polarization, hard scattering drops out\n",
    "M_Lamb = 1.11668\n",
    "e_charge = (4*pi*alpha_EM)**0.5\n",
    "\n",
    "quark_charges = [2/3, -1/3, -1/3, -2/3, 1/3, 1/3] # u,d,s,ub,db,sb\n",
    "\n",
    "### Note, number of flavors changes with Q. Though I don't think we use it\n",
    "# BELLE Q ~ 10 GeV >> Nf = 4\n",
    "# STAR Q ~ 200 GeV >> Nf = 5\n",
    "\n",
    "Nc = 3.\n",
    "CA = Nc\n",
    "# Cf = (Nc*Nc-1)/2*Nc\n",
    "Cf = 4/3\n",
    "Tf = 1/2"
   ]
  },
  {
   "cell_type": "code",
   "execution_count": 9,
   "id": "2e021396-3bbf-4ad1-85ee-8e9d12e03c5c",
   "metadata": {},
   "outputs": [],
   "source": [
    "### b* Functions\n",
    "\n",
    "def logb(bT,mu):\n",
    "\n",
    "    return np.log(bT**2 * mu**2 / (2*np.exp(-1*yE)))\n",
    "    \n",
    "### b* Prescription\n",
    "\n",
    "def bstar(bT):\n",
    "\n",
    "    return bT / (1 + (bT/b_max)**2)**(1/2)\n",
    "    \n",
    "def mub(bT):\n",
    "\n",
    "    return c1 / bstar(bT)"
   ]
  },
  {
   "cell_type": "code",
   "execution_count": 10,
   "id": "8a1c9e98-717f-4a4a-be96-00e61b3718a6",
   "metadata": {},
   "outputs": [],
   "source": [
    "### Evolution Factors\n",
    "\n",
    "def S_P(b, Q, order = 2):\n",
    "\n",
    "    b_star = bstar(b)\n",
    "    Q_0 = c0 / b_star\n",
    "    \n",
    "    # return sudakov.kernel_q(b_star, Q_0, Q, Q_0, Q, order)\n",
    "    return kernel_q(b_star, Q_0, Q, Q_0, Q, order)\n",
    "\n",
    "def S_NP(b, Q):\n",
    "\n",
    "    b_star = bstar(b)\n",
    "    Q_i = np.sqrt(2.4) # This is from the pion fit\n",
    "    \n",
    "    return np.exp(- g_2 / 2.0 * np.log(b / b_star) * np.log(Q /Q_i) - g_h * b * b / (z * z))\n",
    "\n",
    "def S_P_injet(b, Q, pTR, order = 2):\n",
    "\n",
    "    b_star = bstar(b)\n",
    "    Q_0 = Q_0 = c0 / b_star\n",
    "    \n",
    "    return sudakov.kernel_q_jet(b_star, Q_0, Q, Q_0, Q, pTR, order)\n",
    "\n",
    "def S_NP_injet(b, pTR):\n",
    "\n",
    "    b_star = bstar(b)\n",
    "    Q_i = np.sqrt(2.4) # This is from the pion fit\n",
    "    \n",
    "    return np.exp(- g_2 / 2.0 * np.log(b / b_star) * np.log(pTR /Q_i) - g_h * b * b / (z * z))"
   ]
  },
  {
   "cell_type": "code",
   "execution_count": null,
   "id": "a98e2a5a-bcdb-47e3-9444-8ac95369dac5",
   "metadata": {},
   "outputs": [],
   "source": []
  },
  {
   "cell_type": "code",
   "execution_count": null,
   "id": "a340804b-7738-4582-9ad0-541427e82e86",
   "metadata": {},
   "outputs": [],
   "source": []
  },
  {
   "cell_type": "code",
   "execution_count": null,
   "id": "bc690d1d-c458-4145-85a0-a35fa7a0abb1",
   "metadata": {},
   "outputs": [],
   "source": []
  },
  {
   "cell_type": "code",
   "execution_count": 11,
   "id": "705f5b71-a4a3-47a8-ac0e-3f92dfc5b1e0",
   "metadata": {},
   "outputs": [],
   "source": [
    "##### Example Implementation"
   ]
  },
  {
   "cell_type": "code",
   "execution_count": 12,
   "id": "8acfcf8d-5bf2-499f-9027-dcd71b8d31cf",
   "metadata": {},
   "outputs": [
    {
     "name": "stdout",
     "output_type": "stream",
     "text": [
      "LHAPDF 6.5.4 loading /Users/luke/Desktop/LHAPDF/NPC23_PIp_nlo/NPC23_PIp_nlo_0000.dat\n",
      "NPC23_PIp_nlo PDF set, member #0, version 1; LHAPDF ID = 2070000\n",
      " \u001b[1;32m\n",
      " Welcome to \n",
      "      _/_/_/    _/_/_/_/   _/_/_/_/   _/_/_/_/   _/\n",
      "    _/    _/   _/    _/   _/         _/         _/\n",
      "   _/_/_/_/   _/_/_/_/   _/_/_/     _/_/_/     _/\n",
      "  _/    _/   _/         _/         _/         _/\n",
      " _/    _/   _/         _/         _/_/_/_/   _/_/_/_/\n",
      " _____v3.1.1 A PDF Evolution Library, arXiv:1310.1394\n",
      "      Authors: V. Bertone, S. Carrazza, J. Rojo\n",
      " \u001b[0m\n",
      " \u001b[34mReport of the evolution parameters:\n",
      "   \n",
      " QCD evolution\n",
      " Space-like evolution (PDFs)\n",
      " Unpolarized evolution\n",
      " Evolution scheme: VFNS at N1LO\n",
      " Solution of the DGLAP equation: 'exactalpha' with maximum 6 active flavours\n",
      " Solution of the coupling equations: 'exact' with maximum 6 active flavours\n",
      " Coupling reference value:\n",
      " - AlphaQCD(  1.4142 GeV) =  0.350000\n",
      " Pole heavy quark masses:\n",
      " - Mc =   1.4142 GeV\n",
      " - Mb =   4.5000 GeV\n",
      " - Mt = 175.0000 GeV\n",
      " The matching thresholds coincide with the physical masses\n",
      " muR / muF =  1.0000\n",
      "  \n",
      " Allowed evolution range [   1.0000 :  10000.0000 ] GeV\n",
      " The internal subgrids will be locked\n",
      " Fast evolution enabled\n",
      " \u001b[0m\n",
      " Initialization of the evolution completed in   0.333 s\n",
      "  \n"
     ]
    }
   ],
   "source": [
    "### 2023 Grid Plot\n",
    "\n",
    "from TMD import TMDFF\n",
    "member = 0\n",
    "error = 1e-3\n",
    "# scheme = 'CSS'\n",
    "scheme = 'MSbar'\n",
    "# scheme = 'JCC'\n",
    "\n",
    "TMDFF23 = TMDFF(1, 1., 'NPC23_PIp_nlo', member, error, scheme)"
   ]
  },
  {
   "cell_type": "code",
   "execution_count": 14,
   "id": "e4f72a41-8047-4483-8752-2d5c80793cea",
   "metadata": {},
   "outputs": [
    {
     "data": {
      "image/png": "[encoded data removed]",
      "text/plain": [
       "<Figure size 640x480 with 1 Axes>"
      ]
     },
     "metadata": {},
     "output_type": "display_data"
    }
   ],
   "source": [
    "### 2023 Grid Plot 'NPC23_PIp_nlo'\n",
    "\n",
    "### Compare My Code vs. TMD.py vs. Fortran at Q^2 = 10\n",
    "\n",
    "c0 = 1.122919 \n",
    "b_max = 1.5\n",
    "Lmu = 0\n",
    "Lz = 0\n",
    "\n",
    "z = 0.4\n",
    "b = np.linspace(1e-2,3,50)\n",
    "Q = np.sqrt(2.4)\n",
    "# my_10 = [bb*TMD_FFs_b_NLO(z, bb, Q, zD_PIp)[2]/2./np.pi for bb in b]\n",
    "tmd_24_23 = [bb*S_P(bb, Q, order = 2)*S_NP(bb, Q)*TMDFF23.CxFF(z,mub(bb),Lmu,Lz)[2]/2./np.pi for bb in b]\n",
    "\n",
    "Q = np.sqrt(10.)\n",
    "tmd_10_23 = [bb*S_P(bb, Q, order = 2)*S_NP(bb, Q)*TMDFF23.CxFF(z,mub(bb),Lmu,Lz)[2]/2./np.pi for bb in b]\n",
    "\n",
    "Q = np.sqrt(1e3)\n",
    "tmd_1000_23 = [bb*S_P(bb, Q, order = 2)*S_NP(bb, Q)*TMDFF23.CxFF(z,mub(bb),Lmu,Lz)[2]/2./np.pi for bb in b]\n",
    "\n",
    "ax = plt.subplot(111)\n",
    "ax.plot(b,tmd_24_23,label = r\"$Q^{2} = 2.4$ GeV$^{2}$\")\n",
    "ax.plot(b,tmd_10_23,label = r\"$Q^{2} = 10$ GeV$^{2}$\")\n",
    "ax.plot(b,tmd_1000_23,label = r\"$Q^{2} = 1000$ GeV$^{2}$\")\n",
    "\n",
    "ax.set_ylabel(r\"$\\frac{b}{2 \\pi} \\, D(z, b, Q)$\")\n",
    "ax.set_xlabel(r\"$b \\, (\\mathrm{GeV}^{-1})$\")\n",
    "\n",
    "# fortran_run = np.load('/Users/luke/Downloads/tmdbs_10GeV2.npz')\n",
    "\n",
    "# hoff2_bgrid = fortran_run['arr1']\n",
    "# hoff2_10GeV2 = fortran_run['arr2']\n",
    "\n",
    "# ax.plot(hoff2_bgrid, hoff2_bgrid*hoff2_10GeV2 / (2*np.pi), label = 'Fortran')\n",
    "\n",
    "# df1ffb = pd.read_csv('/Users/luke/desktop/phd/UCLA-QCD/ffbSQ2.4.csv') # data pts\n",
    "# df2ffb = pd.read_csv('/Users/luke/desktop/phd/UCLA-QCD/ffbSQ1000.csv') # data pts\n",
    "# df3ffb = pd.read_csv('/Users/luke/desktop/phd/UCLA-QCD/ffbSQ10.csv') # data pts\n",
    "# #ff = pd.read_csv('StarRUN10-Collins200-Figure_rpi.csv')# simulation\n",
    "# # mpl.rcParams[\"errorbar.capsize\"] = 3\n",
    "# x1 =df1ffb['x']\n",
    "# y1 = df1ffb['y']\n",
    "# x2 = df2ffb['x'] \n",
    "# y2 = df2ffb['y'] \n",
    "# x3 = df3ffb['x']\n",
    "# y3 = df3ffb['y']\n",
    "# ax.plot(x1,y1,'s', color = 'black', label='Kang et al. 2015')\n",
    "# ax.plot(x2,y2,'s', color = 'blue',  label='Kang et al. 2015')\n",
    "# ax.plot(x3,y3,'s', color = 'red',   label='Kang et al. 2015')\n",
    "plt.title(r'NPC 2023 $\\pi^{+}$ NLO NLL')\n",
    "\n",
    "ax.legend(loc='center left', bbox_to_anchor=(1, 0.5), frameon = False)\n",
    "plt.show()"
   ]
  },
  {
   "cell_type": "code",
   "execution_count": null,
   "id": "b62d5b13-3d22-49c2-90ab-038b0cc1f47f",
   "metadata": {},
   "outputs": [],
   "source": []
  }
 ],
 "metadata": {
  "kernelspec": {
   "display_name": "Python 3 (ipykernel)",
   "language": "python",
   "name": "python3"
  },
  "language_info": {
   "codemirror_mode": {
    "name": "ipython",
    "version": 3
   },
   "file_extension": ".py",
   "mimetype": "text/x-python",
   "name": "python",
   "nbconvert_exporter": "python",
   "pygments_lexer": "ipython3",
   "version": "3.10.0"
  }
 },
 "nbformat": 4,
 "nbformat_minor": 5
}
